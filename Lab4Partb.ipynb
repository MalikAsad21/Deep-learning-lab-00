{
  "nbformat": 4,
  "nbformat_minor": 0,
  "metadata": {
    "colab": {
      "provenance": []
    },
    "kernelspec": {
      "name": "python3",
      "display_name": "Python 3"
    },
    "language_info": {
      "name": "python"
    }
  },
  "cells": [
    {
      "cell_type": "markdown",
      "source": [
        "mport and Activation Functions"
      ],
      "metadata": {
        "id": "NYP4G62kYWd-"
      }
    },
    {
      "cell_type": "code",
      "source": [
        "import numpy as np\n",
        "\n",
        "# Define activation functions and their derivatives\n",
        "def sigmoid(x):\n",
        "    return 1 / (1 + np.exp(-x))\n",
        "\n",
        "def sigmoid_derivative(x):\n",
        "    return sigmoid(x) * (1 - sigmoid(x))\n",
        "\n",
        "def relu(x):\n",
        "    return np.maximum(0, x)\n",
        "\n",
        "def relu_derivative(x):\n",
        "    return np.where(x > 0, 1, 0)\n",
        "\n",
        "print(\"✅ Activation functions defined (Sigmoid & ReLU)\")"
      ],
      "metadata": {
        "colab": {
          "base_uri": "https://localhost:8080/"
        },
        "id": "J3jiIXo-YYkJ",
        "outputId": "bde4b3f7-74ea-4904-d67c-ae4e61825b0b"
      },
      "execution_count": 2,
      "outputs": [
        {
          "output_type": "stream",
          "name": "stdout",
          "text": [
            "✅ Activation functions defined (Sigmoid & ReLU)\n"
          ]
        }
      ]
    },
    {
      "cell_type": "markdown",
      "source": [
        "Initialize Weights and Input"
      ],
      "metadata": {
        "id": "5Re7k7jLYcX8"
      }
    },
    {
      "cell_type": "code",
      "source": [
        "# Initialize weights and biases\n",
        "w1, b1 = 0.5, 0\n",
        "w2, b2 = 0.5, 0\n",
        "w3, b3 = 0.5, 0\n",
        "\n",
        "# Input and true output\n",
        "x = 1\n",
        "y = 1\n",
        "\n",
        "print(f\"✅ Weights initialized: w1={w1}, w2={w2}, w3={w3}\")\n",
        "print(f\"✅ Input: x={x}, Target: y={y}\")"
      ],
      "metadata": {
        "colab": {
          "base_uri": "https://localhost:8080/"
        },
        "id": "U0uUs8HnYhwE",
        "outputId": "730e2d4b-c3ba-4cd8-d959-33c41dc5b5d4"
      },
      "execution_count": 3,
      "outputs": [
        {
          "output_type": "stream",
          "name": "stdout",
          "text": [
            "✅ Weights initialized: w1=0.5, w2=0.5, w3=0.5\n",
            "✅ Input: x=1, Target: y=1\n"
          ]
        }
      ]
    },
    {
      "cell_type": "markdown",
      "source": [
        "Sigmoid Network Forward Pass"
      ],
      "metadata": {
        "id": "QRcoGZCaYj9T"
      }
    },
    {
      "cell_type": "code",
      "source": [
        "# Sigmoid Network - Forward Pass\n",
        "print(\"=== Sigmoid Network ===\")\n",
        "\n",
        "z1_s = w1 * x + b1\n",
        "a1_s = sigmoid(z1_s)\n",
        "\n",
        "z2_s = w2 * a1_s + b2\n",
        "a2_s = sigmoid(z2_s)\n",
        "\n",
        "z3_s = w3 * a2_s + b3\n",
        "y_pred_s = sigmoid(z3_s)\n",
        "\n",
        "loss_s = 0.5 * (y - y_pred_s) ** 2\n",
        "\n",
        "print(\"\\nForward Pass Results:\")\n",
        "print(f\"Layer 1 Output (a1): {a1_s:.4f}\")\n",
        "print(f\"Layer 2 Output (a2): {a2_s:.4f}\")\n",
        "print(f\"Predicted Output (y_pred): {y_pred_s:.4f}\")\n",
        "print(f\"Loss: {loss_s:.4f}\")"
      ],
      "metadata": {
        "colab": {
          "base_uri": "https://localhost:8080/"
        },
        "id": "SU2unGooYx4g",
        "outputId": "194ebd24-8303-4954-a328-1be815f7c727"
      },
      "execution_count": 4,
      "outputs": [
        {
          "output_type": "stream",
          "name": "stdout",
          "text": [
            "=== Sigmoid Network ===\n",
            "\n",
            "Forward Pass Results:\n",
            "Layer 1 Output (a1): 0.6225\n",
            "Layer 2 Output (a2): 0.5772\n",
            "Predicted Output (y_pred): 0.5717\n",
            "Loss: 0.0917\n"
          ]
        }
      ]
    },
    {
      "cell_type": "markdown",
      "source": [
        "Sigmoid Network Backward Pass (Gradients)"
      ],
      "metadata": {
        "id": "dWJQsrcgY0Qe"
      }
    },
    {
      "cell_type": "code",
      "source": [
        "# Sigmoid Network - Backward Pass\n",
        "dL_dy_pred_s = -(y - y_pred_s)\n",
        "dy_pred_dz3_s = sigmoid_derivative(z3_s)\n",
        "dL_dw3_s = dL_dy_pred_s * dy_pred_dz3_s * a2_s\n",
        "\n",
        "dL_da2_s = dL_dy_pred_s * dy_pred_dz3_s * w3\n",
        "da2_dz2_s = sigmoid_derivative(z2_s)\n",
        "dL_dw2_s = dL_da2_s * da2_dz2_s * a1_s\n",
        "\n",
        "dL_da1_s = dL_da2_s * da2_dz2_s * w2\n",
        "da1_dz1_s = sigmoid_derivative(z1_s)\n",
        "dL_dw1_s = dL_da1_s * da1_dz1_s * x\n",
        "\n",
        "print(\"\\nGradients (Sigmoid):\")\n",
        "print(f\"∂L/∂w3: {dL_dw3_s:.4f}\")\n",
        "print(f\"∂L/∂w2: {dL_dw2_s:.4f}\")\n",
        "print(f\"∂L/∂w1: {dL_dw1_s:.4f}\")"
      ],
      "metadata": {
        "colab": {
          "base_uri": "https://localhost:8080/"
        },
        "id": "gce1Q4v7Y4nF",
        "outputId": "e943d92d-4f12-4dec-fd2e-0da775b5da5f"
      },
      "execution_count": 5,
      "outputs": [
        {
          "output_type": "stream",
          "name": "stdout",
          "text": [
            "\n",
            "Gradients (Sigmoid):\n",
            "∂L/∂w3: -0.0605\n",
            "∂L/∂w2: -0.0080\n",
            "∂L/∂w1: -0.0015\n"
          ]
        }
      ]
    },
    {
      "cell_type": "markdown",
      "source": [
        "ReLU Network Forward Pass"
      ],
      "metadata": {
        "id": "IeswlunOY_CI"
      }
    },
    {
      "cell_type": "code",
      "source": [
        "# ReLU Network - Forward Pass\n",
        "print(\"\\n=== ReLU Network ===\")\n",
        "\n",
        "z1_r = w1 * x + b1\n",
        "a1_r = relu(z1_r)\n",
        "\n",
        "z2_r = w2 * a1_r + b2\n",
        "a2_r = relu(z2_r)\n",
        "\n",
        "z3_r = w3 * a2_r + b3\n",
        "y_pred_r = relu(z3_r)\n",
        "\n",
        "loss_r = 0.5 * (y - y_pred_r) ** 2\n",
        "\n",
        "print(\"\\nForward Pass Results:\")\n",
        "print(f\"Layer 1 Output (a1): {a1_r:.4f}\")\n",
        "print(f\"Layer 2 Output (a2): {a2_r:.4f}\")\n",
        "print(f\"Predicted Output (y_pred): {y_pred_r:.4f}\")\n",
        "print(f\"Loss: {loss_r:.4f}\")"
      ],
      "metadata": {
        "colab": {
          "base_uri": "https://localhost:8080/"
        },
        "id": "LN-8aL6RY_w9",
        "outputId": "3800cd69-2fae-4728-d62c-427286679ec8"
      },
      "execution_count": 6,
      "outputs": [
        {
          "output_type": "stream",
          "name": "stdout",
          "text": [
            "\n",
            "=== ReLU Network ===\n",
            "\n",
            "Forward Pass Results:\n",
            "Layer 1 Output (a1): 0.5000\n",
            "Layer 2 Output (a2): 0.2500\n",
            "Predicted Output (y_pred): 0.1250\n",
            "Loss: 0.3828\n"
          ]
        }
      ]
    },
    {
      "cell_type": "markdown",
      "source": [
        "ReLU Network Backward Pass & Comparison"
      ],
      "metadata": {
        "id": "hsG-aVUiZDB-"
      }
    },
    {
      "cell_type": "code",
      "source": [
        "# ReLU Network - Backward Pass\n",
        "dL_dy_pred_r = -(y - y_pred_r)\n",
        "dy_pred_dz3_r = relu_derivative(z3_r)\n",
        "dL_dw3_r = dL_dy_pred_r * dy_pred_dz3_r * a2_r\n",
        "\n",
        "dL_da2_r = dL_dy_pred_r * dy_pred_dz3_r * w3\n",
        "da2_dz2_r = relu_derivative(z2_r)\n",
        "dL_dw2_r = dL_da2_r * da2_dz2_r * a1_r\n",
        "\n",
        "dL_da1_r = dL_da2_r * da2_dz2_r * w2\n",
        "da1_dz1_r = relu_derivative(z1_r)\n",
        "dL_dw1_r = dL_da1_r * da1_dz1_r * x\n",
        "\n",
        "print(\"\\nGradients (ReLU):\")\n",
        "print(f\"∂L/∂w3: {dL_dw3_r:.4f}\")\n",
        "print(f\"∂L/∂w2: {dL_dw2_r:.4f}\")\n",
        "print(f\"∂L/∂w1: {dL_dw1_r:.4f}\")\n",
        "\n",
        "# Final Comparison\n",
        "print(\"\\n=== Comparison ===\")\n",
        "print(\"Sigmoid Gradients vs ReLU Gradients:\")\n",
        "print(f\"∂L/∂w3: {dL_dw3_s:.4f} (Sigmoid) | {dL_dw3_r:.4f} (ReLU)\")\n",
        "print(f\"∂L/∂w2: {dL_dw2_s:.4f} (Sigmoid) | {dL_dw2_r:.4f} (ReLU)\")\n",
        "print(f\"∂L/∂w1: {dL_dw1_s:.4f} (Sigmoid) | {dL_dw1_r:.4f} (ReLU)\")"
      ],
      "metadata": {
        "colab": {
          "base_uri": "https://localhost:8080/"
        },
        "id": "Kc4ztIuEZGFD",
        "outputId": "952c0ddc-7026-432d-86e6-81089a9f06f2"
      },
      "execution_count": 7,
      "outputs": [
        {
          "output_type": "stream",
          "name": "stdout",
          "text": [
            "\n",
            "Gradients (ReLU):\n",
            "∂L/∂w3: -0.2188\n",
            "∂L/∂w2: -0.2188\n",
            "∂L/∂w1: -0.2188\n",
            "\n",
            "=== Comparison ===\n",
            "Sigmoid Gradients vs ReLU Gradients:\n",
            "∂L/∂w3: -0.0605 (Sigmoid) | -0.2188 (ReLU)\n",
            "∂L/∂w2: -0.0080 (Sigmoid) | -0.2188 (ReLU)\n",
            "∂L/∂w1: -0.0015 (Sigmoid) | -0.2188 (ReLU)\n"
          ]
        }
      ]
    }
  ]
}